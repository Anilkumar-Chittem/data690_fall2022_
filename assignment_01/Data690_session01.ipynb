{
  "nbformat": 4,
  "nbformat_minor": 0,
  "metadata": {
    "colab": {
      "provenance": [],
      "authorship_tag": "ABX9TyNKFdZF/RF0tXfjGpoTGv+n",
      "include_colab_link": true
    },
    "kernelspec": {
      "name": "python3",
      "display_name": "Python 3"
    },
    "language_info": {
      "name": "python"
    }
  },
  "cells": [
    {
      "cell_type": "markdown",
      "metadata": {
        "id": "view-in-github",
        "colab_type": "text"
      },
      "source": [
        "<a href=\"https://colab.research.google.com/github/Anilkumar-Chittem/data690_fall2022_/blob/main/assignment_01/Data690_session01.ipynb\" target=\"_parent\"><img src=\"https://colab.research.google.com/assets/colab-badge.svg\" alt=\"Open In Colab\"/></a>"
      ]
    },
    {
      "cell_type": "markdown",
      "source": [
        "# data690_fall2022_\n",
        "\n",
        "This is the notebook for in class practise .\n",
        "\n",
        "- Name : *Anilkumar reddy*\n",
        "\n",
        "- Date: 09/1/2022"
      ],
      "metadata": {
        "id": "BkfofMdmslGC"
      }
    },
    {
      "cell_type": "code",
      "execution_count": 1,
      "metadata": {
        "colab": {
          "base_uri": "https://localhost:8080/"
        },
        "id": "EGKAG1DMsaFr",
        "outputId": "6fb2015f-45c5-4240-c742-2c6e2bae04e2"
      },
      "outputs": [
        {
          "output_type": "stream",
          "name": "stdout",
          "text": [
            "hello world\n"
          ]
        }
      ],
      "source": [
        "print('hello world')"
      ]
    },
    {
      "cell_type": "code",
      "source": [
        "age=24\n",
        "name='Anil'\n",
        "print(\" My name is \", name,\"my age is \" , age)"
      ],
      "metadata": {
        "colab": {
          "base_uri": "https://localhost:8080/"
        },
        "id": "wL46ezWEtQq9",
        "outputId": "d6f6a05b-7fdd-4d6e-8b25-c51b71b777c8"
      },
      "execution_count": 5,
      "outputs": [
        {
          "output_type": "stream",
          "name": "stdout",
          "text": [
            " My name is  Anil my age is  24\n"
          ]
        }
      ]
    },
    {
      "cell_type": "code",
      "source": [
        "print( \" my name is \" + name +\",\"+\" my age is\" ,+ age)"
      ],
      "metadata": {
        "colab": {
          "base_uri": "https://localhost:8080/"
        },
        "id": "d7o0k5uvvFCJ",
        "outputId": "6d69b888-7cd4-44e2-a6f7-25db429cdc27"
      },
      "execution_count": 8,
      "outputs": [
        {
          "output_type": "stream",
          "name": "stdout",
          "text": [
            " my name is Anil, my age is 24\n"
          ]
        }
      ]
    },
    {
      "cell_type": "code",
      "source": [],
      "metadata": {
        "id": "g6UCMuISwj-w"
      },
      "execution_count": null,
      "outputs": []
    }
  ]
}